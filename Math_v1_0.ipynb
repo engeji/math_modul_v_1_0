{
 "cells": [
  {
   "cell_type": "markdown",
   "id": "62580186-f27d-431b-a877-3130cc229584",
   "metadata": {},
   "source": [
    "#Блок импорта библиотек"
   ]
  },
  {
   "cell_type": "code",
   "execution_count": 16,
   "id": "525b786b-578e-4e40-b6cb-262836e6ce52",
   "metadata": {},
   "outputs": [
    {
     "name": "stdout",
     "output_type": "stream",
     "text": [
      "Using matplotlib backend: TkAgg\n"
     ]
    }
   ],
   "source": [
    "import pandas as pd #для массовой манипуляции с данными\n",
    "import seaborn as sns # для построения графиков\n",
    "import os #Для указания директории файла\n",
    "import numpy as np #для матемаических функций и операций\n",
    "import scipy as sk #для функции интерполяции\n",
    "import re #для регулярных выражений\n",
    "from datetime import datetime #для преобразования формата datetime\n",
    "import matplotlib.pyplot as plt #sns использует matplotlib внутри, библиотека нужна для регулирования размеров графика\n",
    "sns.set(rc={'figure.figsize' : (20,10)}, style='whitegrid') #Добавление сетки и указание размеров графика (ширина, высота)"
   ]
  },
  {
   "cell_type": "markdown",
   "id": "6f69149f-6b2f-4387-bac1-0f3f2350684f",
   "metadata": {},
   "source": [
    "#Расчёт максимальной суточной добычи"
   ]
  },
  {
   "cell_type": "code",
   "execution_count": 17,
   "id": "d72d3aea-47d5-4d42-a805-b8f38cd44372",
   "metadata": {},
   "outputs": [],
   "source": [
    "#Шаг 1 - расчёт пикового дебита за год (пр. (суточная добыча на момент 22.01.2022 - суточная добыча на момент 01.01.2022)/22)\n",
    "#Шаг 2 - Построить линию тренда, где Y - результат Шага 1, X - Накопленная добыча на момент даты 22.10.2022 (применить полиномиальную функцию к расчёту)\n",
    "#Шаг 3 - Добавить возможность ручного ввода годовой накопленной добычи, таким образом конечный пользователь сможет видеть зависимость линии тренда от времени\n",
    "#!!!Задание - организовать проверку физичности для пикового дебита, предыдущий всегда больше, чем последующие\n",
    "def max_sut(max_sut):\n",
    "    pd.options.display.float_format = '{:.2f}'.format\n",
    "    \n",
    "    \n",
    "    \n",
    "    \n",
    "    \n",
    "    \n",
    "    \n",
    "    \n",
    "    return max_sut"
   ]
  },
  {
   "cell_type": "markdown",
   "id": "925973ff-1e8a-4f72-ab3b-efdb78e3964a",
   "metadata": {},
   "source": [
    "#Расчёт добычи по кварталам\n",
    "Функция возвращает датафрейм с расчитанными годовыми значениями добычи\n",
    "Расчёт выполняется для каждого уникального типа отдельно итеративным способом"
   ]
  },
  {
   "cell_type": "code",
   "execution_count": 18,
   "id": "75807d37-7e39-44be-9b73-f79c6b2d48fc",
   "metadata": {},
   "outputs": [],
   "source": [
    "def quart(df_quart, n):\n",
    "    pd.options.display.float_format = '{:.2f}'.format\n",
    "    # df_quart = df_quart[(df_quart['type'].str.contains('1')) ]\n",
    "    unique = df_quart['type'].unique()\n",
    "    print(len(unique))\n",
    "    df_conc=[]\n",
    "    for m in range(0, len(unique)): # цикл для перебора уникальных типов\n",
    "        df_quart1 = df_quart[(df_quart['type'] == unique[m]) ]\n",
    "        # print(df_quart1)\n",
    "        df_temp = df_quart.groupby(['Год', 'Квартал'], as_index=False).agg({\"Дата\": [np.min]})\n",
    "        # print(df_temp)\n",
    "        df_temp.columns = df_temp.columns.droplevel(1)\n",
    "        df_temp = df_temp.merge(df_quart1[['Накопленная добыча газа, м3', 'Дата']], how='inner', left_on='Дата', right_on='Дата')\n",
    "        df_temp['Квартальная добыча'] = df_temp['Накопленная добыча газа, м3'] - df_temp['Накопленная добыча газа, м3'].shift(1)# от каждого последующего значения накопленной добычи отнимается предыдущее в рамках квартала\n",
    "        df_temp['type'] = unique[m]\n",
    "        df_conc.append(df_temp) \n",
    "    df_conc = pd.concat(df_conc, ignore_index=True)\n",
    "    # print(df_conc)\n",
    "    return df_conc"
   ]
  },
  {
   "cell_type": "markdown",
   "id": "68d2d992-dd35-4dda-8e72-669a605a3b34",
   "metadata": {},
   "source": [
    "#Основной блок\n",
    "В шаблоне ОБЯЗАТЕЛЬНО(!!!) должны присутствовать два листа:\n",
    "1) Лист с данными, сюда входят все 8 синтетических вариантов (Название листа по умолчанию 'Вариант 1')\n",
    "2) Лист с перечнем условий, программа будет динамически расширять столбцы для новых условий, их можно добавить любое количество, однако, важно чтобы для этих условий были данные (Название листа с условиями по умолчанию 'Условия')\n",
    "ОБЯЗАТЕЛЬНО(!!!) также наличие поля type (в десятичном формате), type характеризует текущий набор данных (условия)"
   ]
  },
  {
   "cell_type": "code",
   "execution_count": 19,
   "id": "951ac0bb-b092-4f3b-965a-dc28cb8e79c4",
   "metadata": {},
   "outputs": [
    {
     "name": "stderr",
     "output_type": "stream",
     "text": [
      "C:\\Users\\A_Korobeynikov\\AppData\\Local\\Temp\\ipykernel_10404\\2155181855.py:17: SettingWithCopyWarning: \n",
      "A value is trying to be set on a copy of a slice from a DataFrame\n",
      "\n",
      "See the caveats in the documentation: https://pandas.pydata.org/pandas-docs/stable/user_guide/indexing.html#returning-a-view-versus-a-copy\n",
      "  df['type'][i] = typ_st[1:]\n",
      "C:\\Users\\A_Korobeynikov\\AppData\\Local\\Temp\\ipykernel_10404\\2155181855.py:43: SettingWithCopyWarning: \n",
      "A value is trying to be set on a copy of a slice from a DataFrame\n",
      "\n",
      "See the caveats in the documentation: https://pandas.pydata.org/pandas-docs/stable/user_guide/indexing.html#returning-a-view-versus-a-copy\n",
      "  df['C'+str(h)][i] = df_usl['Дата условия'][h]\n"
     ]
    },
    {
     "name": "stdout",
     "output_type": "stream",
     "text": [
      "9\n"
     ]
    },
    {
     "data": {
      "text/plain": [
       "<AxesSubplot:xlabel='Дата', ylabel='Квартальная добыча'>"
      ]
     },
     "execution_count": 19,
     "metadata": {},
     "output_type": "execute_result"
    }
   ],
   "source": [
    "cwd = os.getcwd() #определение директории файла\n",
    "df=pd.read_excel(os.path.join(cwd, 'test_data_s.xlsx'), sheet_name='Вариант 1') #считывание данных из файла, формировнаие основного датафрейма\n",
    "df_usl=pd.read_excel(os.path.join(cwd, 'test_data_s.xlsx'), sheet_name='Условия') #считывание данных из файла, формирование датафрейма условий\n",
    "\n",
    "#определение квартала и года по дате\n",
    "df['Квартал'] = df['Дата'].dt.quarter \n",
    "df['Год'] = df['Дата'].dt.year\n",
    "\n",
    "df['type'] = df['type'].apply(lambda x: format(int(x), '04b')) #перевод десятичных значений поля 'type' в байты\n",
    "\n",
    "n=len(df_usl.index) #максимальное количество условий для одного варианта\n",
    "\n",
    "#цикл для удаления первых нулей в полях 'type' (пр. для '7': 0111 > 111)\n",
    "for i in range(0, len(df.index)):\n",
    "    typ_st = df['type'][i]\n",
    "    if len(df['type'][i]) > n and int(typ_st[0]) == 0:\n",
    "        df['type'][i] = typ_st[1:]\n",
    "# print(df)\n",
    "\n",
    "#формирование квартала и года из даты посредством регулярных выражений\n",
    "df_usl['Квартал реализации условия'] = df_usl['Дата условия'].str.extract(r'(?!\\()\\b(\\d+){1}') \n",
    "df_usl['Год реализации условия'] = df_usl['Дата условия'].str.extract(r'(\\d{4})')\n",
    "\n",
    "\n",
    "\n",
    "name='C'\n",
    "for numbers in range(0, len(df_usl.index)): #Цикл для формирования столбцов-условий в главном датафрейме\n",
    "    df[name+str(numbers)] = np.nan\n",
    "\n",
    "#Формирование побочных датафреймов для их обработке внутри функций расчёта\n",
    "df_quart = df\n",
    "max_sut = df\n",
    "\n",
    "#Цикл для заполнения столбцов-условий в главном датафрейме\n",
    "for i in range(0, len(df.index)): #перебор строк датафрейма с данными\n",
    "    # print(df['Дата'][1])\n",
    "    for j in range(0, len(df_usl.index)): #перебор строк датафрейма условий\n",
    "        st_t=str(df['type'][i])\n",
    "        # print(str(df['Квартал'][i])==str(df_usl['Квартал реализации условия'][j]) and str(df['Год'][i])==str(df_usl['Год реализации условия'][j]))\n",
    "        if str(df['Квартал'][i])==str(df_usl['Квартал реализации условия'][j]) and str(df['Год'][i])==str(df_usl['Год реализации условия'][j]): #поиск строк с условиями \n",
    "            for h in range(0, n): #для перебора байтов и записи столбцов 'С'\n",
    "                if int(st_t[h]) == 1:\n",
    "                    df['C'+str(h)][i] = df_usl['Дата условия'][h]\n",
    "                elif int(st_t[h]) == 0:\n",
    "                    df['C'+str(h)][i] = np.nan\n",
    "\n",
    "df_quart=quart(df_quart, n) # Вызов функций \n",
    "max_sut=(max_sut)\n",
    "\n",
    "\n",
    "# print(df_quart)\n",
    "\n",
    "#График зависимости годовой добычи от времени\n",
    "sns.lineplot(\n",
    "    data= df_quart[df_quart['Дата'] >= '2022-04-01'], #условие с датой необходимо, первые значения датафрейма невалидны, в будущем будет сделана динамическое исключение таких значений\n",
    "    x='Дата',\n",
    "    y='Квартальная добыча',\n",
    "    hue='type',\n",
    ")\n",
    "\n",
    "\n",
    "# plt.figure(figsize=(20, 10))\n",
    "# df_quart[df_quart['Квартальная добыча'].isna()]\n",
    "# df_quart.head(20)\n",
    "# df_quart[df_quart.type == '101']\n",
    "\n",
    "\n"
   ]
  }
 ],
 "metadata": {
  "kernelspec": {
   "display_name": "Python 3.8.1 ('venv': venv)",
   "language": "python",
   "name": "python3"
  },
  "language_info": {
   "codemirror_mode": {
    "name": "ipython",
    "version": 3
   },
   "file_extension": ".py",
   "mimetype": "text/x-python",
   "name": "python",
   "nbconvert_exporter": "python",
   "pygments_lexer": "ipython3",
   "version": "3.8.1"
  },
  "vscode": {
   "interpreter": {
    "hash": "32e4e63558c8ec8f9a216b3e0eb72b577419ca2a93b25bbb5ba0c652d977448f"
   }
  }
 },
 "nbformat": 4,
 "nbformat_minor": 5
}
